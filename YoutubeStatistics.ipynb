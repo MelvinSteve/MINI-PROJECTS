{
  "nbformat": 4,
  "nbformat_minor": 0,
  "metadata": {
    "colab": {
      "provenance": []
    },
    "kernelspec": {
      "name": "python3",
      "display_name": "Python 3"
    },
    "language_info": {
      "name": "python"
    }
  },
  "cells": [
    {
      "cell_type": "code",
      "execution_count": 22,
      "metadata": {
        "id": "FlrgMubm1-kM"
      },
      "outputs": [],
      "source": [
        "import numpy as np\n",
        "import pandas as pd\n",
        "import matplotlib.pyplot as plt\n",
        "import seaborn as sns"
      ]
    },
    {
      "cell_type": "code",
      "source": [
        "dataset=pd.read_csv(\"/content/train.csv\")"
      ],
      "metadata": {
        "id": "-uvnCfon2SMY"
      },
      "execution_count": 11,
      "outputs": []
    },
    {
      "cell_type": "code",
      "source": [
        "print(dataset.head())"
      ],
      "metadata": {
        "colab": {
          "base_uri": "https://localhost:8080/"
        },
        "id": "p7fRRPP32XmC",
        "outputId": "786970eb-af4e-465b-c1a9-6c74f4122466"
      },
      "execution_count": 12,
      "outputs": [
        {
          "output_type": "stream",
          "name": "stdout",
          "text": [
            "     Video_id category_id          channel_title  subscriber  \\\n",
            "0   HDR9SQc79          22           CaseyNeistat   9086142.0   \n",
            "1  KNH52UF?48          24        LastWeekTonight   5937292.0   \n",
            "2  QTW28IRG36          23           Rudy Mancuso   4191209.0   \n",
            "3  MGL76WI]26          24  Good Mythical Morning  13186408.0   \n",
            "4  TWP93KXT70          24               nigahiga  20563106.0   \n",
            "\n",
            "                                               title  \\\n",
            "0                 WE WANT TO TALK ABOUT OUR MARRIAGE   \n",
            "1  The Trump Presidency: Last Week Tonight with J...   \n",
            "2  Racist Superman | Rudy Mancuso, King Bach & Le...   \n",
            "3                   Nickelback Lyrics: Real or Fake?   \n",
            "4                           I Dare You: GOING BALD!?   \n",
            "\n",
            "                                                tags  \\\n",
            "0                                    SHANtell martin   \n",
            "1  last week tonight trump presidency|last week t...   \n",
            "2  racist superman|rudy|mancuso|king|bach|racist|...   \n",
            "3  rhett and link|gmm|good mythical morning|rhett...   \n",
            "4  ryan|higa|higatv|nigahiga|i dare you|idy|rhpc|...   \n",
            "\n",
            "                                         description  Trend_day_count  \\\n",
            "0  SHANTELL'S CHANNEL - https://www.youtube.com/s...              6.0   \n",
            "1  One year after the presidential election, John...              1.0   \n",
            "2  WATCH MY PREVIOUS VIDEO ▶ \\n\\nSUBSCRIBE ► http...             10.0   \n",
            "3  Today we find out if Link is a Nickelback amat...             12.0   \n",
            "4  I know it's been a while since we did this sho...             11.0   \n",
            "\n",
            "  Tag_count Trend_tag_count comment_count comment_disabled  \\\n",
            "0        21               6                          FALSE   \n",
            "1        23               1        116266             TRUE   \n",
            "2        22               3        257850             TRUE   \n",
            "3        17               5        263939             TRUE   \n",
            "4        15               7        268085             TRUE   \n",
            "\n",
            "  like dislike disabled  likes dislike tag appered in title    views  \\\n",
            "0                 FALSE  13342    6089                False  1978978   \n",
            "1                 FALSE   5761    3044                False  1487870   \n",
            "2                  TRUE      0       0                 True  1502102   \n",
            "3                  TRUE      0       0                 True  3519302   \n",
            "4                  TRUE      0       0                 True  4835374   \n",
            "\n",
            "   Unnamed: 17 Unnamed: 18  \n",
            "0          NaN         NaN  \n",
            "1          NaN         NaN  \n",
            "2          NaN         NaN  \n",
            "3          NaN         NaN  \n",
            "4          NaN         NaN  \n"
          ]
        }
      ]
    },
    {
      "cell_type": "code",
      "source": [
        "dataset.info()\n"
      ],
      "metadata": {
        "colab": {
          "base_uri": "https://localhost:8080/"
        },
        "id": "2Ywe4gWb2j7b",
        "outputId": "371c66c9-c731-4b31-a70b-97e2d9fdd2ab"
      },
      "execution_count": 13,
      "outputs": [
        {
          "output_type": "stream",
          "name": "stdout",
          "text": [
            "<class 'pandas.core.frame.DataFrame'>\n",
            "RangeIndex: 3198 entries, 0 to 3197\n",
            "Data columns (total 19 columns):\n",
            " #   Column                 Non-Null Count  Dtype  \n",
            "---  ------                 --------------  -----  \n",
            " 0   Video_id               3198 non-null   object \n",
            " 1   category_id            3192 non-null   object \n",
            " 2   channel_title          3195 non-null   object \n",
            " 3   subscriber             3175 non-null   float64\n",
            " 4   title                  3195 non-null   object \n",
            " 5   tags                   3046 non-null   object \n",
            " 6   description            3133 non-null   object \n",
            " 7   Trend_day_count        3197 non-null   float64\n",
            " 8   Tag_count              3197 non-null   object \n",
            " 9   Trend_tag_count        3197 non-null   object \n",
            " 10  comment_count          3198 non-null   object \n",
            " 11  comment_disabled       3198 non-null   object \n",
            " 12  like dislike disabled  3198 non-null   object \n",
            " 13  likes                  3198 non-null   object \n",
            " 14  dislike                3198 non-null   object \n",
            " 15  tag appered in title   3197 non-null   object \n",
            " 16  views                  3198 non-null   object \n",
            " 17  Unnamed: 17            1 non-null      float64\n",
            " 18  Unnamed: 18            1 non-null      object \n",
            "dtypes: float64(3), object(16)\n",
            "memory usage: 474.8+ KB\n"
          ]
        }
      ]
    },
    {
      "cell_type": "code",
      "source": [
        "dataset.isnull().sum()"
      ],
      "metadata": {
        "colab": {
          "base_uri": "https://localhost:8080/"
        },
        "id": "feM4KTPProNE",
        "outputId": "bd94dbf3-6a12-4ca3-b15a-9878247b801b"
      },
      "execution_count": 14,
      "outputs": [
        {
          "output_type": "execute_result",
          "data": {
            "text/plain": [
              "Video_id                    0\n",
              "category_id                 6\n",
              "channel_title               3\n",
              "subscriber                 23\n",
              "title                       3\n",
              "tags                      152\n",
              "description                65\n",
              "Trend_day_count             1\n",
              "Tag_count                   1\n",
              "Trend_tag_count             1\n",
              "comment_count               0\n",
              "comment_disabled            0\n",
              "like dislike disabled       0\n",
              "likes                       0\n",
              "dislike                     0\n",
              "tag appered in title        1\n",
              "views                       0\n",
              "Unnamed: 17              3197\n",
              "Unnamed: 18              3197\n",
              "dtype: int64"
            ]
          },
          "metadata": {},
          "execution_count": 14
        }
      ]
    },
    {
      "cell_type": "code",
      "source": [
        "dataset.drop([\"Unnamed: 17\",\"Unnamed: 18\"],axis=1,inplace=True)"
      ],
      "metadata": {
        "id": "DsLQKA8O3ogz"
      },
      "execution_count": 15,
      "outputs": []
    },
    {
      "cell_type": "code",
      "source": [
        "dataset.info()"
      ],
      "metadata": {
        "colab": {
          "base_uri": "https://localhost:8080/"
        },
        "id": "AsOPo1AMsC-v",
        "outputId": "31981490-4dd5-453d-d3d7-70d34480a412"
      },
      "execution_count": 16,
      "outputs": [
        {
          "output_type": "stream",
          "name": "stdout",
          "text": [
            "<class 'pandas.core.frame.DataFrame'>\n",
            "RangeIndex: 3198 entries, 0 to 3197\n",
            "Data columns (total 17 columns):\n",
            " #   Column                 Non-Null Count  Dtype  \n",
            "---  ------                 --------------  -----  \n",
            " 0   Video_id               3198 non-null   object \n",
            " 1   category_id            3192 non-null   object \n",
            " 2   channel_title          3195 non-null   object \n",
            " 3   subscriber             3175 non-null   float64\n",
            " 4   title                  3195 non-null   object \n",
            " 5   tags                   3046 non-null   object \n",
            " 6   description            3133 non-null   object \n",
            " 7   Trend_day_count        3197 non-null   float64\n",
            " 8   Tag_count              3197 non-null   object \n",
            " 9   Trend_tag_count        3197 non-null   object \n",
            " 10  comment_count          3198 non-null   object \n",
            " 11  comment_disabled       3198 non-null   object \n",
            " 12  like dislike disabled  3198 non-null   object \n",
            " 13  likes                  3198 non-null   object \n",
            " 14  dislike                3198 non-null   object \n",
            " 15  tag appered in title   3197 non-null   object \n",
            " 16  views                  3198 non-null   object \n",
            "dtypes: float64(2), object(15)\n",
            "memory usage: 424.9+ KB\n"
          ]
        }
      ]
    },
    {
      "cell_type": "code",
      "source": [
        "dataset=dataset.fillna(dataset.bfill())"
      ],
      "metadata": {
        "id": "JwzuMibcr4Y5"
      },
      "execution_count": 18,
      "outputs": []
    },
    {
      "cell_type": "code",
      "source": [
        "print(dataset.head())"
      ],
      "metadata": {
        "colab": {
          "base_uri": "https://localhost:8080/"
        },
        "id": "ICL746s84HrO",
        "outputId": "aa420291-a818-44ba-d1db-12d28f627b80"
      },
      "execution_count": 19,
      "outputs": [
        {
          "output_type": "stream",
          "name": "stdout",
          "text": [
            "     Video_id category_id          channel_title  subscriber  \\\n",
            "0   HDR9SQc79          22           CaseyNeistat   9086142.0   \n",
            "1  KNH52UF?48          24        LastWeekTonight   5937292.0   \n",
            "2  QTW28IRG36          23           Rudy Mancuso   4191209.0   \n",
            "3  MGL76WI]26          24  Good Mythical Morning  13186408.0   \n",
            "4  TWP93KXT70          24               nigahiga  20563106.0   \n",
            "\n",
            "                                               title  \\\n",
            "0                 WE WANT TO TALK ABOUT OUR MARRIAGE   \n",
            "1  The Trump Presidency: Last Week Tonight with J...   \n",
            "2  Racist Superman | Rudy Mancuso, King Bach & Le...   \n",
            "3                   Nickelback Lyrics: Real or Fake?   \n",
            "4                           I Dare You: GOING BALD!?   \n",
            "\n",
            "                                                tags  \\\n",
            "0                                    SHANtell martin   \n",
            "1  last week tonight trump presidency|last week t...   \n",
            "2  racist superman|rudy|mancuso|king|bach|racist|...   \n",
            "3  rhett and link|gmm|good mythical morning|rhett...   \n",
            "4  ryan|higa|higatv|nigahiga|i dare you|idy|rhpc|...   \n",
            "\n",
            "                                         description  Trend_day_count  \\\n",
            "0  SHANTELL'S CHANNEL - https://www.youtube.com/s...              6.0   \n",
            "1  One year after the presidential election, John...              1.0   \n",
            "2  WATCH MY PREVIOUS VIDEO ▶ \\n\\nSUBSCRIBE ► http...             10.0   \n",
            "3  Today we find out if Link is a Nickelback amat...             12.0   \n",
            "4  I know it's been a while since we did this sho...             11.0   \n",
            "\n",
            "  Tag_count Trend_tag_count comment_count comment_disabled  \\\n",
            "0        21               6                          FALSE   \n",
            "1        23               1        116266             TRUE   \n",
            "2        22               3        257850             TRUE   \n",
            "3        17               5        263939             TRUE   \n",
            "4        15               7        268085             TRUE   \n",
            "\n",
            "  like dislike disabled  likes dislike tag appered in title    views  \n",
            "0                 FALSE  13342    6089                False  1978978  \n",
            "1                 FALSE   5761    3044                False  1487870  \n",
            "2                  TRUE      0       0                 True  1502102  \n",
            "3                  TRUE      0       0                 True  3519302  \n",
            "4                  TRUE      0       0                 True  4835374  \n"
          ]
        }
      ]
    },
    {
      "cell_type": "code",
      "source": [
        "print(dataset.info())"
      ],
      "metadata": {
        "colab": {
          "base_uri": "https://localhost:8080/"
        },
        "id": "_ypH9M6e43Zd",
        "outputId": "c6e449d3-9faa-41aa-b935-eb7f9f7a37a1"
      },
      "execution_count": 20,
      "outputs": [
        {
          "output_type": "stream",
          "name": "stdout",
          "text": [
            "<class 'pandas.core.frame.DataFrame'>\n",
            "RangeIndex: 3198 entries, 0 to 3197\n",
            "Data columns (total 17 columns):\n",
            " #   Column                 Non-Null Count  Dtype  \n",
            "---  ------                 --------------  -----  \n",
            " 0   Video_id               3198 non-null   object \n",
            " 1   category_id            3198 non-null   object \n",
            " 2   channel_title          3198 non-null   object \n",
            " 3   subscriber             3198 non-null   float64\n",
            " 4   title                  3198 non-null   object \n",
            " 5   tags                   3197 non-null   object \n",
            " 6   description            3198 non-null   object \n",
            " 7   Trend_day_count        3198 non-null   float64\n",
            " 8   Tag_count              3198 non-null   object \n",
            " 9   Trend_tag_count        3198 non-null   object \n",
            " 10  comment_count          3198 non-null   object \n",
            " 11  comment_disabled       3198 non-null   object \n",
            " 12  like dislike disabled  3198 non-null   object \n",
            " 13  likes                  3198 non-null   object \n",
            " 14  dislike                3198 non-null   object \n",
            " 15  tag appered in title   3198 non-null   object \n",
            " 16  views                  3198 non-null   object \n",
            "dtypes: float64(2), object(15)\n",
            "memory usage: 424.9+ KB\n",
            "None\n"
          ]
        }
      ]
    },
    {
      "cell_type": "code",
      "source": [
        "sns.boxplot(dataset[\"Trend_day_count\"])"
      ],
      "metadata": {
        "colab": {
          "base_uri": "https://localhost:8080/",
          "height": 354
        },
        "id": "yY6WtoGtsp7o",
        "outputId": "9c75ac1c-50c0-4a5e-db2d-3e70524cf1a8"
      },
      "execution_count": 24,
      "outputs": [
        {
          "output_type": "stream",
          "name": "stderr",
          "text": [
            "/usr/local/lib/python3.8/dist-packages/seaborn/_decorators.py:36: FutureWarning: Pass the following variable as a keyword arg: x. From version 0.12, the only valid positional argument will be `data`, and passing other arguments without an explicit keyword will result in an error or misinterpretation.\n",
            "  warnings.warn(\n"
          ]
        },
        {
          "output_type": "execute_result",
          "data": {
            "text/plain": [
              "<AxesSubplot:xlabel='Trend_day_count'>"
            ]
          },
          "metadata": {},
          "execution_count": 24
        },
        {
          "output_type": "display_data",
          "data": {
            "text/plain": [
              "<Figure size 432x288 with 1 Axes>"
            ],
            "image/png": "[encoded data removed]"
          },
          "metadata": {
            "needs_background": "light"
          }
        }
      ]
    },
    {
      "cell_type": "code",
      "source": [
        "sns.boxplot(dataset[\"subscriber\"])"
      ],
      "metadata": {
        "colab": {
          "base_uri": "https://localhost:8080/",
          "height": 353
        },
        "id": "7AMtiB3WsrmB",
        "outputId": "c20c81fa-b6b3-4b62-d985-9c96fa1efdeb"
      },
      "execution_count": 25,
      "outputs": [
        {
          "output_type": "stream",
          "name": "stderr",
          "text": [
            "/usr/local/lib/python3.8/dist-packages/seaborn/_decorators.py:36: FutureWarning: Pass the following variable as a keyword arg: x. From version 0.12, the only valid positional argument will be `data`, and passing other arguments without an explicit keyword will result in an error or misinterpretation.\n",
            "  warnings.warn(\n"
          ]
        },
        {
          "output_type": "execute_result",
          "data": {
            "text/plain": [
              "<AxesSubplot:xlabel='subscriber'>"
            ]
          },
          "metadata": {},
          "execution_count": 25
        },
        {
          "output_type": "display_data",
          "data": {
            "text/plain": [
              "<Figure size 432x288 with 1 Axes>"
            ],
            "image/png": "[encoded data removed]"
          },
          "metadata": {
            "needs_background": "light"
          }
        }
      ]
    },
    {
      "cell_type": "code",
      "source": [
        "q1=dataset[\"subscriber\"].quantile(0.25)\n",
        "q3=dataset[\"subscriber\"].quantile(0.75)\n",
        "iqr=q3-q1\n",
        "\n",
        "lower_lmt=q1-1.5*iqr\n",
        "upper_lmt=q3+1.5*iqr\n",
        "print(lower_lmt,upper_lmt)\n",
        "\n",
        "dataset=dataset[((dataset[\"subscriber\"]>lower_lmt) & (dataset[\"subscriber\"]<upper_lmt))]"
      ],
      "metadata": {
        "colab": {
          "base_uri": "https://localhost:8080/"
        },
        "id": "3NybKDrLtDCa",
        "outputId": "b6e00d53-485b-41cf-fbe1-9b843894f885"
      },
      "execution_count": 30,
      "outputs": [
        {
          "output_type": "stream",
          "name": "stdout",
          "text": [
            "-3067797.875 5525951.125\n"
          ]
        }
      ]
    },
    {
      "cell_type": "code",
      "source": [
        "sns.boxplot(dataset[\"subscriber\"])"
      ],
      "metadata": {
        "colab": {
          "base_uri": "https://localhost:8080/",
          "height": 353
        },
        "id": "TLiDAqtStwSO",
        "outputId": "ae39a089-d45c-49f6-8d4e-5e5f6f4731f0"
      },
      "execution_count": 31,
      "outputs": [
        {
          "output_type": "stream",
          "name": "stderr",
          "text": [
            "/usr/local/lib/python3.8/dist-packages/seaborn/_decorators.py:36: FutureWarning: Pass the following variable as a keyword arg: x. From version 0.12, the only valid positional argument will be `data`, and passing other arguments without an explicit keyword will result in an error or misinterpretation.\n",
            "  warnings.warn(\n"
          ]
        },
        {
          "output_type": "execute_result",
          "data": {
            "text/plain": [
              "<AxesSubplot:xlabel='subscriber'>"
            ]
          },
          "metadata": {},
          "execution_count": 31
        },
        {
          "output_type": "display_data",
          "data": {
            "text/plain": [
              "<Figure size 432x288 with 1 Axes>"
            ],
            "image/png": "[encoded data removed]"
          },
          "metadata": {
            "needs_background": "light"
          }
        }
      ]
    },
    {
      "cell_type": "code",
      "source": [
        "q1=dataset[\"Trend_day_count\"].quantile(0.25)\n",
        "q3=dataset[\"Trend_day_count\"].quantile(0.75)\n",
        "iqr=q3-q1\n",
        "\n",
        "lower_lmt=q1-1.5*iqr\n",
        "upper_lmt=q3+1.5*iqr\n",
        "print(lower_lmt,upper_lmt)\n",
        "\n",
        "dataset=dataset[((dataset[\"Trend_day_count\"]>lower_lmt) & (dataset[\"Trend_day_count\"]<upper_lmt))]"
      ],
      "metadata": {
        "colab": {
          "base_uri": "https://localhost:8080/"
        },
        "id": "uIzG6w41tzca",
        "outputId": "b4f7fa69-911f-4f4b-b7eb-164947738b8c"
      },
      "execution_count": 33,
      "outputs": [
        {
          "output_type": "stream",
          "name": "stdout",
          "text": [
            "-5.0 19.0\n"
          ]
        }
      ]
    },
    {
      "cell_type": "code",
      "source": [
        "sns.boxplot(dataset[\"Trend_day_count\"])"
      ],
      "metadata": {
        "colab": {
          "base_uri": "https://localhost:8080/",
          "height": 354
        },
        "id": "5_UN76IhuQVu",
        "outputId": "bbc92f24-a7b5-41f3-d863-86385587707f"
      },
      "execution_count": 34,
      "outputs": [
        {
          "output_type": "stream",
          "name": "stderr",
          "text": [
            "/usr/local/lib/python3.8/dist-packages/seaborn/_decorators.py:36: FutureWarning: Pass the following variable as a keyword arg: x. From version 0.12, the only valid positional argument will be `data`, and passing other arguments without an explicit keyword will result in an error or misinterpretation.\n",
            "  warnings.warn(\n"
          ]
        },
        {
          "output_type": "execute_result",
          "data": {
            "text/plain": [
              "<AxesSubplot:xlabel='Trend_day_count'>"
            ]
          },
          "metadata": {},
          "execution_count": 34
        },
        {
          "output_type": "display_data",
          "data": {
            "text/plain": [
              "<Figure size 432x288 with 1 Axes>"
            ],
            "image/png": "[encoded data removed]"
          },
          "metadata": {
            "needs_background": "light"
          }
        }
      ]
    },
    {
      "cell_type": "code",
      "source": [
        "dataset.info()"
      ],
      "metadata": {
        "colab": {
          "base_uri": "https://localhost:8080/"
        },
        "id": "1g3v7YnwuWKv",
        "outputId": "672899f8-c306-482d-fe39-ac684dc9d684"
      },
      "execution_count": 35,
      "outputs": [
        {
          "output_type": "stream",
          "name": "stdout",
          "text": [
            "<class 'pandas.core.frame.DataFrame'>\n",
            "Int64Index: 2612 entries, 2 to 3197\n",
            "Data columns (total 17 columns):\n",
            " #   Column                 Non-Null Count  Dtype  \n",
            "---  ------                 --------------  -----  \n",
            " 0   Video_id               2612 non-null   object \n",
            " 1   category_id            2612 non-null   object \n",
            " 2   channel_title          2612 non-null   object \n",
            " 3   subscriber             2612 non-null   float64\n",
            " 4   title                  2612 non-null   object \n",
            " 5   tags                   2611 non-null   object \n",
            " 6   description            2612 non-null   object \n",
            " 7   Trend_day_count        2612 non-null   float64\n",
            " 8   Tag_count              2612 non-null   object \n",
            " 9   Trend_tag_count        2612 non-null   object \n",
            " 10  comment_count          2612 non-null   object \n",
            " 11  comment_disabled       2612 non-null   object \n",
            " 12  like dislike disabled  2612 non-null   object \n",
            " 13  likes                  2612 non-null   object \n",
            " 14  dislike                2612 non-null   object \n",
            " 15  tag appered in title   2612 non-null   object \n",
            " 16  views                  2612 non-null   object \n",
            "dtypes: float64(2), object(15)\n",
            "memory usage: 367.3+ KB\n"
          ]
        }
      ]
    },
    {
      "cell_type": "code",
      "source": [],
      "metadata": {
        "id": "VHMxryqCuYq6"
      },
      "execution_count": null,
      "outputs": []
    }
  ]
}